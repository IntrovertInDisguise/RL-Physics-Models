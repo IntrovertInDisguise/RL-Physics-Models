{
 "cells": [
  {
   "cell_type": "code",
   "execution_count": null,
   "metadata": {},
   "outputs": [],
   "source": [
    "%reset -f\n",
    "import mujoco\n",
    "import numpy as np\n",
    "import matplotlib.pyplot as plt\n",
    "import seaborn as sns\n",
    "import mediapy as media\n",
    "from tqdm import tqdm\n",
    "\n",
    "\n",
    "# Constants\n",
    "EPISODES = 10000\n",
    "EPISODE_LENGTH = 200\n",
    "SAMPLE_RATE = 0.01\n",
    "LEARNING_RATE = 0.002\n",
    "EPSILON_DECAY = 0.8\n",
    "MIN_EPSILON = 0.01\n",
    "GAMMA = 0.99"
   ]
  }
 ],
 "metadata": {
  "kernelspec": {
   "display_name": "Python 3",
   "language": "python",
   "name": "python3"
  },
  "language_info": {
   "name": "python",
   "version": "3.11.10"
  }
 },
 "nbformat": 4,
 "nbformat_minor": 2
}
